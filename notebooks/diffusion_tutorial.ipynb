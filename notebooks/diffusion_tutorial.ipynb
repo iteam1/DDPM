{
 "cells": [
  {
   "cell_type": "markdown",
   "id": "03d45eaf",
   "metadata": {},
   "source": [
    "# forward difffusion process\n",
    "\n",
    "![fig](../assets/DDPM.png)"
   ]
  },
  {
   "cell_type": "code",
   "execution_count": 2,
   "id": "f2ff2aac",
   "metadata": {},
   "outputs": [
    {
     "data": {
      "text/plain": [
       "'\\nmean = sqrt(a_hat)*x_0\\nvariance = sqrt(1-a_hat) * random_noise\\n'"
      ]
     },
     "execution_count": 2,
     "metadata": {},
     "output_type": "execute_result"
    }
   ],
   "source": [
    "\"\"\"\n",
    "mean = sqrt(a_hat)*x_0\n",
    "variance = sqrt(1-a_hat) * random_noise\n",
    "\"\"\""
   ]
  },
  {
   "cell_type": "code",
   "execution_count": 5,
   "id": "598bbd99",
   "metadata": {},
   "outputs": [],
   "source": [
    "import torch\n",
    "import matplotlib.pyplot as plt"
   ]
  },
  {
   "cell_type": "code",
   "execution_count": 29,
   "id": "293dc3c2",
   "metadata": {},
   "outputs": [
    {
     "data": {
      "text/plain": [
       "torch.Size([2, 3, 32, 32])"
      ]
     },
     "execution_count": 29,
     "metadata": {},
     "output_type": "execute_result"
    }
   ],
   "source": [
    "# define starting input\n",
    "x0 = torch.randn(2,3,32,32)\n",
    "x0.shape"
   ]
  },
  {
   "cell_type": "code",
   "execution_count": 30,
   "id": "d45eacc4",
   "metadata": {},
   "outputs": [
    {
     "data": {
      "text/plain": [
       "tensor([0.0500, 0.1000, 0.1500, 0.2000, 0.2500])"
      ]
     },
     "execution_count": 30,
     "metadata": {},
     "output_type": "execute_result"
    }
   ],
   "source": [
    "# define variance scheduler betas\n",
    "betas = torch.tensor([0.05,0.1,0.15,0.2,0.25])\n",
    "betas"
   ]
  },
  {
   "cell_type": "code",
   "execution_count": 31,
   "id": "22b27c54",
   "metadata": {},
   "outputs": [
    {
     "data": {
      "text/plain": [
       "tensor([1, 3])"
      ]
     },
     "execution_count": 31,
     "metadata": {},
     "output_type": "execute_result"
    }
   ],
   "source": [
    "# define timestep\n",
    "t = torch.tensor([1,3])\n",
    "t"
   ]
  },
  {
   "cell_type": "code",
   "execution_count": 28,
   "id": "50fa4760",
   "metadata": {},
   "outputs": [
    {
     "data": {
      "text/plain": [
       "tensor([0.9500, 0.9000, 0.8500, 0.8000, 0.7500])"
      ]
     },
     "execution_count": 28,
     "metadata": {},
     "output_type": "execute_result"
    }
   ],
   "source": [
    "# betas -> the amount of noise that are being applied at every timstep of diffusion process\n",
    "# alphas -> 1-betas --> amount of original image's information that are being preserved affer a diffusion process step\n",
    "alphas = 1 - betas\n",
    "alphas"
   ]
  },
  {
   "cell_type": "code",
   "execution_count": 33,
   "id": "a95829f0",
   "metadata": {},
   "outputs": [
    {
     "data": {
      "text/plain": [
       "tensor([0.9500, 0.8550, 0.7268, 0.5814, 0.4360])"
      ]
     },
     "execution_count": 33,
     "metadata": {},
     "output_type": "execute_result"
    }
   ],
   "source": [
    "alpha_hat = torch.cumprod(alphas,axis=0)\n",
    "alpha_hat"
   ]
  },
  {
   "cell_type": "markdown",
   "id": "74d2663d",
   "metadata": {},
   "source": [
    "https://lilianweng.github.io/posts/2021-07-11-diffusion-models/"
   ]
  }
 ],
 "metadata": {
  "kernelspec": {
   "display_name": "Python 3 (ipykernel)",
   "language": "python",
   "name": "python3"
  },
  "language_info": {
   "codemirror_mode": {
    "name": "ipython",
    "version": 3
   },
   "file_extension": ".py",
   "mimetype": "text/x-python",
   "name": "python",
   "nbconvert_exporter": "python",
   "pygments_lexer": "ipython3",
   "version": "3.8.18"
  }
 },
 "nbformat": 4,
 "nbformat_minor": 5
}
