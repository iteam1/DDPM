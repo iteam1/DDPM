{
 "cells": [
  {
   "cell_type": "markdown",
   "id": "7182d464",
   "metadata": {},
   "source": [
    "# forward difffusion process\n",
    "\n",
    "![fig](../assets/DDPM.png)"
   ]
  },
  {
   "cell_type": "code",
   "execution_count": 2,
   "id": "01e70a27",
   "metadata": {},
   "outputs": [
    {
     "data": {
      "text/plain": [
       "'\\nmean = sqrt(a_hat)*x_0\\nvariance = sqrt(1-a_hat) * random_noise\\n'"
      ]
     },
     "execution_count": 2,
     "metadata": {},
     "output_type": "execute_result"
    }
   ],
   "source": [
    "\"\"\"\n",
    "mean = sqrt(a_hat)*x_0\n",
    "variance = sqrt(1-a_hat) * random_noise\n",
    "\"\"\""
   ]
  },
  {
   "cell_type": "code",
   "execution_count": 5,
   "id": "5b4e40f1",
   "metadata": {},
   "outputs": [],
   "source": [
    "import torch\n",
    "import matplotlib.pyplot as plt"
   ]
  },
  {
   "cell_type": "code",
   "execution_count": 10,
   "id": "34c96a39",
   "metadata": {},
   "outputs": [],
   "source": [
    "# define starting input\n",
    "x0 = torch.randn(2,3,32,32)"
   ]
  },
  {
   "cell_type": "code",
   "execution_count": 21,
   "id": "2821516e",
   "metadata": {},
   "outputs": [],
   "source": [
    "# define variance scheduler betas\n",
    "betas = torch.tensor([0.05,0.1,0.15,0.2,0.25])"
   ]
  },
  {
   "cell_type": "code",
   "execution_count": 22,
   "id": "790d0a7f",
   "metadata": {},
   "outputs": [],
   "source": [
    "# define timestep\n",
    "t = torch.tensor([1,3])"
   ]
  },
  {
   "cell_type": "code",
   "execution_count": 23,
   "id": "e9f99ce8",
   "metadata": {},
   "outputs": [],
   "source": [
    "# betas -> the amount of noise that are being applied at every timstep of diffusion process\n",
    "# alphas -> 1-betas --> amount of original image's information that are being preserved affer a diffusion process step\n",
    "alphas = 1 - betas\n"
   ]
  },
  {
   "cell_type": "code",
   "execution_count": 27,
   "id": "97f8c76e",
   "metadata": {},
   "outputs": [
    {
     "data": {
      "text/plain": [
       "tensor([0.9500, 0.8550, 0.7268, 0.5814, 0.4360])"
      ]
     },
     "execution_count": 27,
     "metadata": {},
     "output_type": "execute_result"
    }
   ],
   "source": [
    "alphas_hat = torch.cumprod(alphas,axis=0)\n",
    "alphas_hat"
   ]
  },
  {
   "cell_type": "markdown",
   "id": "03e18a9a",
   "metadata": {},
   "source": [
    "https://lilianweng.github.io/posts/2021-07-11-diffusion-models/"
   ]
  }
 ],
 "metadata": {
  "kernelspec": {
   "display_name": "Python 3 (ipykernel)",
   "language": "python",
   "name": "python3"
  },
  "language_info": {
   "codemirror_mode": {
    "name": "ipython",
    "version": 3
   },
   "file_extension": ".py",
   "mimetype": "text/x-python",
   "name": "python",
   "nbconvert_exporter": "python",
   "pygments_lexer": "ipython3",
   "version": "3.8.18"
  }
 },
 "nbformat": 4,
 "nbformat_minor": 5
}
