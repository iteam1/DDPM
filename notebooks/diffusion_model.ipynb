{
 "cells": [
  {
   "cell_type": "code",
   "execution_count": 30,
   "id": "c9f0fc2a",
   "metadata": {},
   "outputs": [
    {
     "name": "stdout",
     "output_type": "stream",
     "text": [
      "data  diffusion_model.ipynb\n"
     ]
    }
   ],
   "source": [
    "!ls"
   ]
  },
  {
   "cell_type": "code",
   "execution_count": 43,
   "id": "b4bc8504",
   "metadata": {},
   "outputs": [
    {
     "name": "stdout",
     "output_type": "stream",
     "text": [
      "torch version: 2.0.1+cu117\n",
      "gpu cuda is available: True\n",
      "number of gpu: 2\n",
      "current device: 0\n",
      "device 0: NVIDIA GeForce RTX 3060\n",
      "device 1: NVIDIA GeForce GTX 750 Ti\n"
     ]
    }
   ],
   "source": [
    "import os\n",
    "import torch\n",
    "import random\n",
    "import matplotlib.pyplot as plt\n",
    "from PIL import Image\n",
    "from torch.utils.data import Dataset\n",
    "from torch.utils.data import DataLoader\n",
    "\n",
    "print('torch version:',torch.__version__)\n",
    "print('gpu cuda is available:',torch.cuda.is_available())\n",
    "print('number of gpu:',torch.cuda.device_count())\n",
    "print('current device:',torch.cuda.current_device())\n",
    "\n",
    "for i in range(torch.cuda.device_count()):\n",
    "    print(f'device {i}: {torch.cuda.get_device_name(i)}')"
   ]
  },
  {
   "cell_type": "code",
   "execution_count": 33,
   "id": "11fdea25",
   "metadata": {},
   "outputs": [],
   "source": [
    "# load custom dataset\n",
    "class CustomDataset(Dataset):\n",
    "    def __init__(self, data_dir):\n",
    "        self.data_dir = data_dir\n",
    "        self.data = os.listdir(data_dir)\n",
    "    \n",
    "    def __len__(self):\n",
    "        return len(self.data)\n",
    "    \n",
    "    def __getitem__(self,idx):\n",
    "        img_path = os.path.join(self.data_dir,self.data[idx])\n",
    "        img = Image.open(img_path)\n",
    "        return img"
   ]
  },
  {
   "cell_type": "code",
   "execution_count": 40,
   "id": "6a0a46de",
   "metadata": {},
   "outputs": [
    {
     "data": {
      "text/plain": [
       "4692"
      ]
     },
     "execution_count": 40,
     "metadata": {},
     "output_type": "execute_result"
    }
   ],
   "source": [
    "characters_dataset = CustomDataset('./data')\n",
    "len(characters_dataset)"
   ]
  },
  {
   "cell_type": "code",
   "execution_count": 41,
   "id": "56ffeadb",
   "metadata": {},
   "outputs": [],
   "source": [
    "dataloader = DataLoader(characters_dataset, batch_size=8, shuffle=True)"
   ]
  },
  {
   "cell_type": "code",
   "execution_count": null,
   "id": "171dd00c",
   "metadata": {},
   "outputs": [],
   "source": [
    "# visualize dataset\n",
    "def show_images(datset, num_samples=20, cols=4):\n",
    "    \"\"\" Plots some samples from the dataset \"\"\"\n",
    "    plt.figure(figsize=(15,15)) \n",
    "    for i, img in enumerate(data):\n",
    "        if i == num_samples:\n",
    "            break\n",
    "        plt.subplot(int(num_samples/cols) + 1, cols, i + 1)\n",
    "        plt.imshow(img[0])\n",
    "\n",
    "def show_images(dataset,num_samples = 20,cols = 4):\n",
    "    '''\n",
    "    Plots randomly some samples from the dataset\n",
    "    '''\n",
    "    # set figure size\n",
    "    plt.figure(figsize=(15,15))\n",
    "    # random choice some index\n",
    "    list_idxs = list(range(len(dataset)))\n",
    "    random_idxs = random.choices(list_idxs,k=num_samples)\n",
    "    for i,idx in enumerate(random_idxs):\n",
    "        plt.subplot(int(num_samples/cols)+1,cols,i+1) # rows,cols\n",
    "\n"
   ]
  }
 ],
 "metadata": {
  "kernelspec": {
   "display_name": "venv",
   "language": "python",
   "name": "python3"
  },
  "language_info": {
   "codemirror_mode": {
    "name": "ipython",
    "version": 3
   },
   "file_extension": ".py",
   "mimetype": "text/x-python",
   "name": "python",
   "nbconvert_exporter": "python",
   "pygments_lexer": "ipython3",
   "version": "3.8.18"
  }
 },
 "nbformat": 4,
 "nbformat_minor": 5
}
